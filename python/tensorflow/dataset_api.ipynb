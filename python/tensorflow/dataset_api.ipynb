{
 "cells": [
  {
   "cell_type": "code",
   "execution_count": null,
   "metadata": {},
   "outputs": [],
   "source": [
    "import sys\n",
    "\n",
    "import numpy as np\n",
    "import tensorflow as tf"
   ]
  },
  {
   "cell_type": "code",
   "execution_count": null,
   "metadata": {},
   "outputs": [],
   "source": [
    "print('TF version: {}'.format(tf.version.VERSION))\n",
    "print('PY version: {}'.format(sys.version))\n",
    "print('Eager mode: {}'.format(tf.executing_eagerly()))"
   ]
  },
  {
   "cell_type": "code",
   "execution_count": null,
   "metadata": {},
   "outputs": [],
   "source": [
    "data = tf.data.Dataset.from_tensor_slices(list(range(100)))"
   ]
  },
  {
   "cell_type": "markdown",
   "metadata": {},
   "source": [
    "## Iterators\n",
    "- `make_one_shot_iterator`: Initialization is not necessary.\n",
    "- `make_initializable_iterator`: Initializable."
   ]
  },
  {
   "cell_type": "code",
   "execution_count": null,
   "metadata": {},
   "outputs": [],
   "source": [
    "it = data.make_one_shot_iterator()\n",
    "nx = it.get_next()  # Tensor\n",
    "\n",
    "sess = tf.Session()\n",
    "out = []\n",
    "while True:\n",
    "  try:\n",
    "    out.append(sess.run(nx))\n",
    "  except tf.errors.OutOfRangeError:\n",
    "    break\n",
    "print(np.array(out).reshape(10, -1))"
   ]
  },
  {
   "cell_type": "code",
   "execution_count": null,
   "metadata": {},
   "outputs": [],
   "source": [
    "it = data.make_initializable_iterator()  # Operator\n",
    "nx = it.get_next()  # Tensor\n",
    "\n",
    "sess = tf.Session()\n",
    "for i in range(2):\n",
    "  sess.run(it.initializer)\n",
    "  out = []\n",
    "  for i in range(10):\n",
    "    out.append(sess.run(nx))\n",
    "  print(out)"
   ]
  },
  {
   "cell_type": "markdown",
   "metadata": {},
   "source": [
    "## Shuffle"
   ]
  },
  {
   "cell_type": "code",
   "execution_count": null,
   "metadata": {},
   "outputs": [],
   "source": [
    "shuffled = data.shuffle(10)\n",
    "it = shuffled.make_initializable_iterator()\n",
    "nx = it.get_next()\n",
    "\n",
    "with tf.Session() as sess:\n",
    "  sess.run(it.initializer)\n",
    "  out = []\n",
    "  for i in range(100):\n",
    "    out.append(sess.run(nx))\n",
    "  print(np.array(out).reshape((10, -1)))"
   ]
  },
  {
   "cell_type": "markdown",
   "metadata": {},
   "source": [
    "## Batch"
   ]
  },
  {
   "cell_type": "code",
   "execution_count": null,
   "metadata": {},
   "outputs": [],
   "source": [
    "batch = data.batch(30, drop_remainder=False)\n",
    "it = batch.make_initializable_iterator()\n",
    "nx = it.get_next()\n",
    "\n",
    "sess = tf.Session()\n",
    "sess.run(it.initializer)\n",
    "for i in range(4):\n",
    "  print(sess.run(nx))"
   ]
  },
  {
   "cell_type": "markdown",
   "metadata": {},
   "source": [
    "### with `drop_remainder = True`"
   ]
  },
  {
   "cell_type": "code",
   "execution_count": null,
   "metadata": {},
   "outputs": [],
   "source": [
    "batch = data.batch(30, drop_remainder=True)\n",
    "it = batch.make_initializable_iterator()\n",
    "nx = it.get_next()\n",
    "\n",
    "sess = tf.Session()\n",
    "sess.run(it.initializer)\n",
    "try:\n",
    "  for i in range(4):\n",
    "    print('{} ==> {}'.format(i, sess.run(nx)))\n",
    "except tf.errors.OutOfRangeError as e:\n",
    "  print('Out of range at {}'.format(i))"
   ]
  },
  {
   "cell_type": "markdown",
   "metadata": {},
   "source": [
    "### repeat & batch"
   ]
  },
  {
   "cell_type": "code",
   "execution_count": null,
   "metadata": {},
   "outputs": [],
   "source": [
    "batch = data.batch(30, drop_remainder=True).repeat(2)\n",
    "it = batch.make_initializable_iterator()\n",
    "nx = it.get_next()\n",
    "\n",
    "sess = tf.Session()\n",
    "sess.run(it.initializer)\n",
    "try:\n",
    "  i = 0\n",
    "  while True:\n",
    "    print('{} ==> {}'.format(i, sess.run(nx)))\n",
    "    i += 1\n",
    "except tf.errors.OutOfRangeError as e:\n",
    "  print('Out of range at {}'.format(i))"
   ]
  },
  {
   "cell_type": "code",
   "execution_count": null,
   "metadata": {},
   "outputs": [],
   "source": [
    "# Repeat then batch\n",
    "batch = data.repeat(2).batch(30, drop_remainder=True)\n",
    "it = batch.make_initializable_iterator()\n",
    "nx = it.get_next()\n",
    "\n",
    "sess = tf.Session()\n",
    "sess.run(it.initializer)\n",
    "try:\n",
    "  i = 0\n",
    "  while True:\n",
    "    print('{} ==> {}'.format(i, sess.run(nx)))\n",
    "    i += 1\n",
    "except tf.errors.OutOfRangeError as e:\n",
    "  print('Out of range at {}'.format(i))"
   ]
  },
  {
   "cell_type": "markdown",
   "metadata": {},
   "source": [
    "## From generator"
   ]
  },
  {
   "cell_type": "code",
   "execution_count": null,
   "metadata": {},
   "outputs": [],
   "source": [
    "def mygen(n):\n",
    "  for i in range(n):\n",
    "    print('yield {}'.format(i))\n",
    "    yield i\n",
    "\n",
    "# The first argument `generator` is a factory of a generator.\n",
    "data = tf.data.Dataset.from_generator(mygen, output_types=tf.int32, args=(5,)).repeat(2)\n",
    "sess = tf.Session()\n",
    "\n",
    "it = data.make_one_shot_iterator()\n",
    "nx = it.get_next()\n",
    "try:\n",
    "  while True:\n",
    "    print('value = {}'.format(sess.run(nx)))\n",
    "except tf.errors.OutOfRangeError:\n",
    "  pass"
   ]
  }
 ],
 "metadata": {
  "kernelspec": {
   "display_name": "Python 3",
   "language": "python",
   "name": "python3"
  },
  "language_info": {
   "codemirror_mode": {
    "name": "ipython",
    "version": 3
   },
   "file_extension": ".py",
   "mimetype": "text/x-python",
   "name": "python",
   "nbconvert_exporter": "python",
   "pygments_lexer": "ipython3",
   "version": "3.6.8rc1"
  }
 },
 "nbformat": 4,
 "nbformat_minor": 2
}
